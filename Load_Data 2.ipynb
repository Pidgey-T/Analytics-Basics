import pandas as pd

df = pd.read_csv('/Users/tida/Documents/Git/Analytics-Basics/ISLR-python/Notebooks/Data/Auto.csv')

print(df.head())
print(df.columns)
